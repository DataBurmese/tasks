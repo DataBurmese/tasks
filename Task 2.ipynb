{
 "cells": [
  {
   "cell_type": "code",
   "execution_count": 9,
   "id": "c421067f-9302-4abe-913d-1be54e73b828",
   "metadata": {},
   "outputs": [
    {
     "data": {
      "text/html": [
       "<div>\n",
       "<style scoped>\n",
       "    .dataframe tbody tr th:only-of-type {\n",
       "        vertical-align: middle;\n",
       "    }\n",
       "\n",
       "    .dataframe tbody tr th {\n",
       "        vertical-align: top;\n",
       "    }\n",
       "\n",
       "    .dataframe thead th {\n",
       "        text-align: right;\n",
       "    }\n",
       "</style>\n",
       "<table border=\"1\" class=\"dataframe\">\n",
       "  <thead>\n",
       "    <tr style=\"text-align: right;\">\n",
       "      <th></th>\n",
       "      <th>Employee_ID</th>\n",
       "      <th>Date</th>\n",
       "      <th>Department</th>\n",
       "      <th>Job_Role</th>\n",
       "      <th>Hours_Worked</th>\n",
       "      <th>Tasks_Completed</th>\n",
       "      <th>Performance_Score</th>\n",
       "      <th>Tasks_Per_Hour</th>\n",
       "    </tr>\n",
       "  </thead>\n",
       "  <tbody>\n",
       "    <tr>\n",
       "      <th>0</th>\n",
       "      <td>E00001</td>\n",
       "      <td>2023-01-01</td>\n",
       "      <td>Marketing</td>\n",
       "      <td>Manager</td>\n",
       "      <td>5.1</td>\n",
       "      <td>19</td>\n",
       "      <td>3.90</td>\n",
       "      <td>3.73</td>\n",
       "    </tr>\n",
       "    <tr>\n",
       "      <th>1</th>\n",
       "      <td>E00002</td>\n",
       "      <td>2023-01-02</td>\n",
       "      <td>HR</td>\n",
       "      <td>Consultant</td>\n",
       "      <td>9.3</td>\n",
       "      <td>8</td>\n",
       "      <td>2.95</td>\n",
       "      <td>0.86</td>\n",
       "    </tr>\n",
       "    <tr>\n",
       "      <th>2</th>\n",
       "      <td>E00003</td>\n",
       "      <td>2023-01-03</td>\n",
       "      <td>Finance</td>\n",
       "      <td>Developer</td>\n",
       "      <td>5.8</td>\n",
       "      <td>6</td>\n",
       "      <td>2.32</td>\n",
       "      <td>1.03</td>\n",
       "    </tr>\n",
       "    <tr>\n",
       "      <th>3</th>\n",
       "      <td>E00004</td>\n",
       "      <td>2023-01-04</td>\n",
       "      <td>Finance</td>\n",
       "      <td>Technician</td>\n",
       "      <td>6.4</td>\n",
       "      <td>15</td>\n",
       "      <td>1.51</td>\n",
       "      <td>2.34</td>\n",
       "    </tr>\n",
       "    <tr>\n",
       "      <th>4</th>\n",
       "      <td>E00005</td>\n",
       "      <td>2023-01-05</td>\n",
       "      <td>Marketing</td>\n",
       "      <td>Analyst</td>\n",
       "      <td>4.5</td>\n",
       "      <td>3</td>\n",
       "      <td>3.62</td>\n",
       "      <td>0.67</td>\n",
       "    </tr>\n",
       "    <tr>\n",
       "      <th>5</th>\n",
       "      <td>E00006</td>\n",
       "      <td>2023-01-06</td>\n",
       "      <td>Marketing</td>\n",
       "      <td>Analyst</td>\n",
       "      <td>11.6</td>\n",
       "      <td>2</td>\n",
       "      <td>1.40</td>\n",
       "      <td>0.17</td>\n",
       "    </tr>\n",
       "    <tr>\n",
       "      <th>6</th>\n",
       "      <td>E00007</td>\n",
       "      <td>2023-01-07</td>\n",
       "      <td>Sales</td>\n",
       "      <td>Manager</td>\n",
       "      <td>11.0</td>\n",
       "      <td>10</td>\n",
       "      <td>3.48</td>\n",
       "      <td>0.91</td>\n",
       "    </tr>\n",
       "    <tr>\n",
       "      <th>7</th>\n",
       "      <td>E00008</td>\n",
       "      <td>2023-01-08</td>\n",
       "      <td>HR</td>\n",
       "      <td>Manager</td>\n",
       "      <td>11.3</td>\n",
       "      <td>1</td>\n",
       "      <td>4.60</td>\n",
       "      <td>0.09</td>\n",
       "    </tr>\n",
       "    <tr>\n",
       "      <th>8</th>\n",
       "      <td>E00009</td>\n",
       "      <td>2023-01-09</td>\n",
       "      <td>Engineering</td>\n",
       "      <td>Technician</td>\n",
       "      <td>9.0</td>\n",
       "      <td>11</td>\n",
       "      <td>2.27</td>\n",
       "      <td>1.22</td>\n",
       "    </tr>\n",
       "    <tr>\n",
       "      <th>9</th>\n",
       "      <td>E00010</td>\n",
       "      <td>2023-01-10</td>\n",
       "      <td>HR</td>\n",
       "      <td>Developer</td>\n",
       "      <td>7.4</td>\n",
       "      <td>9</td>\n",
       "      <td>2.80</td>\n",
       "      <td>1.22</td>\n",
       "    </tr>\n",
       "  </tbody>\n",
       "</table>\n",
       "</div>"
      ],
      "text/plain": [
       "  Employee_ID        Date   Department    Job_Role  Hours_Worked  \\\n",
       "0      E00001  2023-01-01    Marketing     Manager           5.1   \n",
       "1      E00002  2023-01-02           HR  Consultant           9.3   \n",
       "2      E00003  2023-01-03      Finance   Developer           5.8   \n",
       "3      E00004  2023-01-04      Finance  Technician           6.4   \n",
       "4      E00005  2023-01-05    Marketing     Analyst           4.5   \n",
       "5      E00006  2023-01-06    Marketing     Analyst          11.6   \n",
       "6      E00007  2023-01-07        Sales     Manager          11.0   \n",
       "7      E00008  2023-01-08           HR     Manager          11.3   \n",
       "8      E00009  2023-01-09  Engineering  Technician           9.0   \n",
       "9      E00010  2023-01-10           HR   Developer           7.4   \n",
       "\n",
       "   Tasks_Completed  Performance_Score  Tasks_Per_Hour  \n",
       "0               19               3.90            3.73  \n",
       "1                8               2.95            0.86  \n",
       "2                6               2.32            1.03  \n",
       "3               15               1.51            2.34  \n",
       "4                3               3.62            0.67  \n",
       "5                2               1.40            0.17  \n",
       "6               10               3.48            0.91  \n",
       "7                1               4.60            0.09  \n",
       "8               11               2.27            1.22  \n",
       "9                9               2.80            1.22  "
      ]
     },
     "execution_count": 9,
     "metadata": {},
     "output_type": "execute_result"
    }
   ],
   "source": []
  },
  {
   "cell_type": "code",
   "execution_count": 11,
   "id": "514a36e0-bd90-45a3-bd2e-ffd40a275c0a",
   "metadata": {},
   "outputs": [
    {
     "data": {
      "text/html": [
       "<div>\n",
       "<style scoped>\n",
       "    .dataframe tbody tr th:only-of-type {\n",
       "        vertical-align: middle;\n",
       "    }\n",
       "\n",
       "    .dataframe tbody tr th {\n",
       "        vertical-align: top;\n",
       "    }\n",
       "\n",
       "    .dataframe thead th {\n",
       "        text-align: right;\n",
       "    }\n",
       "</style>\n",
       "<table border=\"1\" class=\"dataframe\">\n",
       "  <thead>\n",
       "    <tr style=\"text-align: right;\">\n",
       "      <th></th>\n",
       "      <th>count</th>\n",
       "      <th>mean</th>\n",
       "      <th>std</th>\n",
       "      <th>min</th>\n",
       "      <th>25%</th>\n",
       "      <th>50%</th>\n",
       "      <th>75%</th>\n",
       "      <th>max</th>\n",
       "    </tr>\n",
       "  </thead>\n",
       "  <tbody>\n",
       "    <tr>\n",
       "      <th>Hours_Worked</th>\n",
       "      <td>1000.0</td>\n",
       "      <td>8.017700</td>\n",
       "      <td>2.343081</td>\n",
       "      <td>4.00</td>\n",
       "      <td>6.00</td>\n",
       "      <td>8.00</td>\n",
       "      <td>10.1000</td>\n",
       "      <td>12.00</td>\n",
       "    </tr>\n",
       "    <tr>\n",
       "      <th>Tasks_Completed</th>\n",
       "      <td>1010.0</td>\n",
       "      <td>10.486139</td>\n",
       "      <td>5.820430</td>\n",
       "      <td>1.00</td>\n",
       "      <td>5.00</td>\n",
       "      <td>10.00</td>\n",
       "      <td>16.0000</td>\n",
       "      <td>20.00</td>\n",
       "    </tr>\n",
       "    <tr>\n",
       "      <th>Performance_Score</th>\n",
       "      <td>1010.0</td>\n",
       "      <td>2.931485</td>\n",
       "      <td>1.131675</td>\n",
       "      <td>1.00</td>\n",
       "      <td>1.94</td>\n",
       "      <td>2.93</td>\n",
       "      <td>3.8875</td>\n",
       "      <td>4.99</td>\n",
       "    </tr>\n",
       "    <tr>\n",
       "      <th>Tasks_Per_Hour</th>\n",
       "      <td>1010.0</td>\n",
       "      <td>1.435307</td>\n",
       "      <td>0.960172</td>\n",
       "      <td>0.08</td>\n",
       "      <td>0.68</td>\n",
       "      <td>1.27</td>\n",
       "      <td>2.0000</td>\n",
       "      <td>5.00</td>\n",
       "    </tr>\n",
       "  </tbody>\n",
       "</table>\n",
       "</div>"
      ],
      "text/plain": [
       "                    count       mean       std   min   25%    50%      75%  \\\n",
       "Hours_Worked       1000.0   8.017700  2.343081  4.00  6.00   8.00  10.1000   \n",
       "Tasks_Completed    1010.0  10.486139  5.820430  1.00  5.00  10.00  16.0000   \n",
       "Performance_Score  1010.0   2.931485  1.131675  1.00  1.94   2.93   3.8875   \n",
       "Tasks_Per_Hour     1010.0   1.435307  0.960172  0.08  0.68   1.27   2.0000   \n",
       "\n",
       "                     max  \n",
       "Hours_Worked       12.00  \n",
       "Tasks_Completed    20.00  \n",
       "Performance_Score   4.99  \n",
       "Tasks_Per_Hour      5.00  "
      ]
     },
     "execution_count": 11,
     "metadata": {},
     "output_type": "execute_result"
    }
   ],
   "source": [
    "df.describe().T"
   ]
  },
  {
   "cell_type": "code",
   "execution_count": 13,
   "id": "b49acc05-a681-444c-ab8d-d431cd41f22f",
   "metadata": {},
   "outputs": [
    {
     "name": "stdout",
     "output_type": "stream",
     "text": [
      "Employee_ID           object\n",
      "Date                  object\n",
      "Department            object\n",
      "Job_Role              object\n",
      "Hours_Worked         float64\n",
      "Tasks_Completed        int64\n",
      "Performance_Score    float64\n",
      "Tasks_Per_Hour       float64\n",
      "dtype: object\n"
     ]
    }
   ],
   "source": []
  },
  {
   "cell_type": "code",
   "execution_count": 15,
   "id": "b4aa4257-baea-4378-94df-fe3d27c7a151",
   "metadata": {},
   "outputs": [
    {
     "name": "stdout",
     "output_type": "stream",
     "text": [
      "Employee_ID           0\n",
      "Date                  0\n",
      "Department            0\n",
      "Job_Role              0\n",
      "Hours_Worked         10\n",
      "Tasks_Completed       0\n",
      "Performance_Score     0\n",
      "Tasks_Per_Hour        0\n",
      "dtype: int64\n"
     ]
    }
   ],
   "source": []
  },
  {
   "cell_type": "code",
   "execution_count": 17,
   "id": "c0876a44-91fb-412b-8b85-2ce2cd4f0bc9",
   "metadata": {},
   "outputs": [
    {
     "name": "stdout",
     "output_type": "stream",
     "text": [
      "Number of rows with duplicated values: 10\n"
     ]
    }
   ],
   "source": []
  },
  {
   "cell_type": "code",
   "execution_count": 19,
   "id": "16615422-c55c-4631-813f-dbd6f37b393c",
   "metadata": {},
   "outputs": [
    {
     "name": "stdout",
     "output_type": "stream",
     "text": [
      "Number of rows with null values: 10\n"
     ]
    }
   ],
   "source": []
  },
  {
   "cell_type": "code",
   "execution_count": 23,
   "id": "cb4cc6ce-4a61-4f19-aca4-110f729b609f",
   "metadata": {},
   "outputs": [
    {
     "name": "stdout",
     "output_type": "stream",
     "text": [
      "Number of rows with duplicated values: 0\n"
     ]
    }
   ],
   "source": []
  },
  {
   "cell_type": "code",
   "execution_count": 43,
   "id": "617a9bcd-c4e2-46c7-8651-a902509e64fc",
   "metadata": {},
   "outputs": [
    {
     "name": "stdout",
     "output_type": "stream",
     "text": [
      "Missing values in 'Hours_Worked': 0\n"
     ]
    }
   ],
   "source": []
  },
  {
   "cell_type": "code",
   "execution_count": 47,
   "id": "15861287-8cd3-4f23-83e9-18f93bf92111",
   "metadata": {},
   "outputs": [
    {
     "name": "stdout",
     "output_type": "stream",
     "text": [
      "Employee_ID                  object\n",
      "Date                 datetime64[ns]\n",
      "Department                 category\n",
      "Job_Role                   category\n",
      "Hours_Worked                float64\n",
      "Tasks_Completed               int32\n",
      "Performance_Score           float64\n",
      "Tasks_Per_Hour              float64\n",
      "dtype: object\n"
     ]
    }
   ],
   "source": []
  },
  {
   "cell_type": "code",
   "execution_count": 51,
   "id": "430dacd8-cf73-45e7-a581-e69f5aa9b271",
   "metadata": {},
   "outputs": [
    {
     "name": "stdout",
     "output_type": "stream",
     "text": [
      "        Date  Year  Month\n",
      "0 2023-01-01  2023      1\n",
      "1 2023-01-02  2023      1\n",
      "2 2023-01-03  2023      1\n",
      "3 2023-01-04  2023      1\n",
      "4 2023-01-05  2023      1\n",
      "5 2023-01-06  2023      1\n",
      "6 2023-01-07  2023      1\n",
      "7 2023-01-08  2023      1\n",
      "8 2023-01-09  2023      1\n",
      "9 2023-01-10  2023      1\n"
     ]
    }
   ],
   "source": [
    "# Ensure the 'Date' column is a datetime object\n",
    "df['Date'] = pd.to_datetime(df['Date'], errors='coerce')\n",
    "\n",
    "# Extract Year and Month from the 'Date' column\n",
    "df['Year'] = df['Date'].dt.year\n",
    "df['Month'] = df['Date'].dt.month\n",
    "\n",
    "# Display the updated DataFrame (optional)\n",
    "print(df[['Date', 'Year', 'Month']].head(10))"
   ]
  },
  {
   "cell_type": "code",
   "execution_count": 55,
   "id": "d3af07a6-3b83-4ceb-968f-a2f3a783f66b",
   "metadata": {},
   "outputs": [
    {
     "name": "stdout",
     "output_type": "stream",
     "text": [
      "Department\n",
      "Engineering    2.947379\n",
      "Finance        2.940204\n",
      "HR             3.004494\n",
      "Marketing      2.846010\n",
      "Sales          2.932736\n",
      "Name: Performance_Score, dtype: float64\n"
     ]
    }
   ],
   "source": [
    "# Calculate the average performance score for each department with explicit 'observed' parameter\n",
    "average_performance_by_department = df.groupby('Department', observed=False)['Performance_Score'].mean()\n",
    "\n",
    "# Display the result\n",
    "print(average_performance_by_department)"
   ]
  },
  {
   "cell_type": "code",
   "execution_count": 59,
   "id": "97d7960c-afba-4ed7-b465-f64b1c540f22",
   "metadata": {},
   "outputs": [
    {
     "name": "stdout",
     "output_type": "stream",
     "text": [
      "Job_Role\n",
      "Analyst       11.360000\n",
      "Manager       10.401015\n",
      "Technician    10.326203\n",
      "Name: Tasks_Completed, dtype: float64\n"
     ]
    }
   ],
   "source": [
    "# Group by Job Role and calculate the average tasks completed per day with observed=False\n",
    "average_tasks_by_role = df.groupby('Job_Role', observed=False)['Tasks_Completed'].mean()\n",
    "\n",
    "# Sort by the average number of tasks completed per day in descending order\n",
    "top_3_roles = average_tasks_by_role.sort_values(ascending=False).head(3)\n",
    "\n",
    "# Display the top 3 roles with the highest average tasks completed per day\n",
    "print(top_3_roles)"
   ]
  },
  {
   "cell_type": "code",
   "execution_count": 63,
   "id": "3a8a783e-cfd3-40f9-865e-93c18e221f1e",
   "metadata": {},
   "outputs": [
    {
     "name": "stdout",
     "output_type": "stream",
     "text": [
      "Department\n",
      "Engineering    2337\n",
      "Finance        1996\n",
      "HR             1833\n",
      "Marketing      2164\n",
      "Sales          2177\n",
      "Name: Tasks_Completed, dtype: int32\n"
     ]
    }
   ],
   "source": [
    "# Group by Department and calculate the total tasks completed with observed=False\n",
    "total_tasks_by_department = df.groupby('Department', observed=False)['Tasks_Completed'].sum()\n",
    "\n",
    "# Display the result\n",
    "print(total_tasks_by_department)"
   ]
  },
  {
   "cell_type": "code",
   "execution_count": null,
   "id": "5d7a5c1d-3378-40ac-b861-8da98ab84cec",
   "metadata": {},
   "outputs": [],
   "source": []
  }
 ],
 "metadata": {
  "kernelspec": {
   "display_name": "Python 3 (ipykernel)",
   "language": "python",
   "name": "python3"
  },
  "language_info": {
   "codemirror_mode": {
    "name": "ipython",
    "version": 3
   },
   "file_extension": ".py",
   "mimetype": "text/x-python",
   "name": "python",
   "nbconvert_exporter": "python",
   "pygments_lexer": "ipython3",
   "version": "3.12.3"
  }
 },
 "nbformat": 4,
 "nbformat_minor": 5
}
