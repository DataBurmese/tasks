{
 "cells": [
  {
   "cell_type": "code",
   "execution_count": 51,
   "id": "430dacd8-cf73-45e7-a581-e69f5aa9b271",
   "metadata": {},
   "outputs": [
    {
     "name": "stdout",
     "output_type": "stream",
     "text": [
      "        Date  Year  Month\n",
      "0 2023-01-01  2023      1\n",
      "1 2023-01-02  2023      1\n",
      "2 2023-01-03  2023      1\n",
      "3 2023-01-04  2023      1\n",
      "4 2023-01-05  2023      1\n",
      "5 2023-01-06  2023      1\n",
      "6 2023-01-07  2023      1\n",
      "7 2023-01-08  2023      1\n",
      "8 2023-01-09  2023      1\n",
      "9 2023-01-10  2023      1\n"
     ]
    }
   ],
   "source": [
    "# Ensure the 'Date' column is a datetime object\n",
    "df['Date'] = pd.to_datetime(df['Date'], errors='coerce')\n",
    "\n",
    "# Extract Year and Month from the 'Date' column\n",
    "df['Year'] = df['Date'].dt.year\n",
    "df['Month'] = df['Date'].dt.month\n",
    "\n",
    "# Display the updated DataFrame (optional)\n",
    "print(df[['Date', 'Year', 'Month']].head(10))"
   ]
  },
  {
   "cell_type": "code",
   "execution_count": 55,
   "id": "d3af07a6-3b83-4ceb-968f-a2f3a783f66b",
   "metadata": {},
   "outputs": [
    {
     "name": "stdout",
     "output_type": "stream",
     "text": [
      "Department\n",
      "Engineering    2.947379\n",
      "Finance        2.940204\n",
      "HR             3.004494\n",
      "Marketing      2.846010\n",
      "Sales          2.932736\n",
      "Name: Performance_Score, dtype: float64\n"
     ]
    }
   ],
   "source": [
    "# Calculate the average performance score for each department with explicit 'observed' parameter\n",
    "average_performance_by_department = df.groupby('Department', observed=False)['Performance_Score'].mean()\n",
    "\n",
    "# Display the result\n",
    "print(average_performance_by_department)"
   ]
  },
  {
   "cell_type": "code",
   "execution_count": 59,
   "id": "97d7960c-afba-4ed7-b465-f64b1c540f22",
   "metadata": {},
   "outputs": [
    {
     "name": "stdout",
     "output_type": "stream",
     "text": [
      "Job_Role\n",
      "Analyst       11.360000\n",
      "Manager       10.401015\n",
      "Technician    10.326203\n",
      "Name: Tasks_Completed, dtype: float64\n"
     ]
    }
   ],
   "source": [
    "# Group by Job Role and calculate the average tasks completed per day with observed=False\n",
    "average_tasks_by_role = df.groupby('Job_Role', observed=False)['Tasks_Completed'].mean()\n",
    "\n",
    "# Sort by the average number of tasks completed per day in descending order\n",
    "top_3_roles = average_tasks_by_role.sort_values(ascending=False).head(3)\n",
    "\n",
    "# Display the top 3 roles with the highest average tasks completed per day\n",
    "print(top_3_roles)"
   ]
  },
  {
   "cell_type": "code",
   "execution_count": 63,
   "id": "3a8a783e-cfd3-40f9-865e-93c18e221f1e",
   "metadata": {},
   "outputs": [
    {
     "name": "stdout",
     "output_type": "stream",
     "text": [
      "Department\n",
      "Engineering    2337\n",
      "Finance        1996\n",
      "HR             1833\n",
      "Marketing      2164\n",
      "Sales          2177\n",
      "Name: Tasks_Completed, dtype: int32\n"
     ]
    }
   ],
   "source": [
    "# Group by Department and calculate the total tasks completed with observed=False\n",
    "total_tasks_by_department = df.groupby('Department', observed=False)['Tasks_Completed'].sum()\n",
    "\n",
    "# Display the result\n",
    "print(total_tasks_by_department)"
   ]
  }
 ],
 "metadata": {
  "kernelspec": {
   "display_name": "Python 3 (ipykernel)",
   "language": "python",
   "name": "python3"
  },
  "language_info": {
   "codemirror_mode": {
    "name": "ipython",
    "version": 3
   },
   "file_extension": ".py",
   "mimetype": "text/x-python",
   "name": "python",
   "nbconvert_exporter": "python",
   "pygments_lexer": "ipython3",
   "version": "3.12.3"
  }
 },
 "nbformat": 4,
 "nbformat_minor": 5
}
